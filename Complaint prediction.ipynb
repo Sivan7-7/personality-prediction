{
 "cells": [
  {
   "cell_type": "code",
   "execution_count": 1,
   "id": "690122ef",
   "metadata": {},
   "outputs": [],
   "source": [
    "from imblearn.under_sampling import RandomUnderSampler\n",
    "from imblearn.over_sampling import RandomOverSampler\n",
    "from sklearn.model_selection import train_test_split\n",
    "from sklearn.model_selection import cross_val_score\n",
    "import numpy as np\n",
    "import matplotlib.pyplot as plt\n",
    "import pandas as pd\n",
    "from sklearn.svm import SVC\n",
    "import time\n",
    "from sklearn.metrics import f1_score\n",
    "from sklearn.metrics import confusion_matrix\n",
    "from sklearn.decomposition import PCA\n",
    "from sklearn.linear_model import LogisticRegression"
   ]
  },
  {
   "cell_type": "code",
   "execution_count": 2,
   "id": "0dc435db",
   "metadata": {},
   "outputs": [
    {
     "data": {
      "text/html": [
       "<div>\n",
       "<style scoped>\n",
       "    .dataframe tbody tr th:only-of-type {\n",
       "        vertical-align: middle;\n",
       "    }\n",
       "\n",
       "    .dataframe tbody tr th {\n",
       "        vertical-align: top;\n",
       "    }\n",
       "\n",
       "    .dataframe thead th {\n",
       "        text-align: right;\n",
       "    }\n",
       "</style>\n",
       "<table border=\"1\" class=\"dataframe\">\n",
       "  <thead>\n",
       "    <tr style=\"text-align: right;\">\n",
       "      <th></th>\n",
       "      <th>Education</th>\n",
       "      <th>Income</th>\n",
       "      <th>Kidhome</th>\n",
       "      <th>Teenhome</th>\n",
       "      <th>Recency</th>\n",
       "      <th>MntWines</th>\n",
       "      <th>MntFruits</th>\n",
       "      <th>MntMeatProducts</th>\n",
       "      <th>MntFishProducts</th>\n",
       "      <th>MntSweetProducts</th>\n",
       "      <th>...</th>\n",
       "      <th>AcceptedCmp4</th>\n",
       "      <th>AcceptedCmp5</th>\n",
       "      <th>AcceptedCmp1</th>\n",
       "      <th>AcceptedCmp2</th>\n",
       "      <th>Complain</th>\n",
       "      <th>Response</th>\n",
       "      <th>Days</th>\n",
       "      <th>Marital</th>\n",
       "      <th>Spent</th>\n",
       "      <th>Family_Size</th>\n",
       "    </tr>\n",
       "  </thead>\n",
       "  <tbody>\n",
       "    <tr>\n",
       "      <th>0</th>\n",
       "      <td>-0.891943</td>\n",
       "      <td>0.314569</td>\n",
       "      <td>-0.823719</td>\n",
       "      <td>-0.931161</td>\n",
       "      <td>0.311683</td>\n",
       "      <td>0.974178</td>\n",
       "      <td>1.548116</td>\n",
       "      <td>1.747883</td>\n",
       "      <td>2.448550</td>\n",
       "      <td>1.479812</td>\n",
       "      <td>...</td>\n",
       "      <td>-0.283535</td>\n",
       "      <td>-0.280723</td>\n",
       "      <td>-0.262422</td>\n",
       "      <td>-0.117471</td>\n",
       "      <td>-0.095695</td>\n",
       "      <td>2.370363</td>\n",
       "      <td>-1.973635</td>\n",
       "      <td>0.400582</td>\n",
       "      <td>1.678816</td>\n",
       "      <td>-1.760647</td>\n",
       "    </tr>\n",
       "    <tr>\n",
       "      <th>1</th>\n",
       "      <td>-0.891943</td>\n",
       "      <td>-0.254830</td>\n",
       "      <td>1.038308</td>\n",
       "      <td>0.906152</td>\n",
       "      <td>-0.380005</td>\n",
       "      <td>-0.874842</td>\n",
       "      <td>-0.638885</td>\n",
       "      <td>-0.731930</td>\n",
       "      <td>-0.652580</td>\n",
       "      <td>-0.635617</td>\n",
       "      <td>...</td>\n",
       "      <td>-0.283535</td>\n",
       "      <td>-0.280723</td>\n",
       "      <td>-0.262422</td>\n",
       "      <td>-0.117471</td>\n",
       "      <td>-0.095695</td>\n",
       "      <td>-0.421876</td>\n",
       "      <td>1.664635</td>\n",
       "      <td>0.400582</td>\n",
       "      <td>-0.964140</td>\n",
       "      <td>0.447928</td>\n",
       "    </tr>\n",
       "    <tr>\n",
       "      <th>2</th>\n",
       "      <td>-0.891943</td>\n",
       "      <td>0.965125</td>\n",
       "      <td>-0.823719</td>\n",
       "      <td>-0.931161</td>\n",
       "      <td>-0.795017</td>\n",
       "      <td>0.354875</td>\n",
       "      <td>0.567737</td>\n",
       "      <td>-0.176268</td>\n",
       "      <td>1.335792</td>\n",
       "      <td>-0.149312</td>\n",
       "      <td>...</td>\n",
       "      <td>-0.283535</td>\n",
       "      <td>-0.280723</td>\n",
       "      <td>-0.262422</td>\n",
       "      <td>-0.117471</td>\n",
       "      <td>-0.095695</td>\n",
       "      <td>-0.421876</td>\n",
       "      <td>0.172342</td>\n",
       "      <td>1.383749</td>\n",
       "      <td>0.280875</td>\n",
       "      <td>-0.656360</td>\n",
       "    </tr>\n",
       "    <tr>\n",
       "      <th>3</th>\n",
       "      <td>-0.891943</td>\n",
       "      <td>-1.205824</td>\n",
       "      <td>1.038308</td>\n",
       "      <td>-0.931161</td>\n",
       "      <td>-0.795017</td>\n",
       "      <td>-0.874842</td>\n",
       "      <td>-0.563471</td>\n",
       "      <td>-0.667638</td>\n",
       "      <td>-0.506644</td>\n",
       "      <td>-0.586987</td>\n",
       "      <td>...</td>\n",
       "      <td>-0.283535</td>\n",
       "      <td>-0.280723</td>\n",
       "      <td>-0.262422</td>\n",
       "      <td>-0.117471</td>\n",
       "      <td>-0.095695</td>\n",
       "      <td>-0.421876</td>\n",
       "      <td>1.922668</td>\n",
       "      <td>1.383749</td>\n",
       "      <td>-0.920922</td>\n",
       "      <td>0.447928</td>\n",
       "    </tr>\n",
       "    <tr>\n",
       "      <th>4</th>\n",
       "      <td>0.571826</td>\n",
       "      <td>0.322052</td>\n",
       "      <td>1.038308</td>\n",
       "      <td>-0.931161</td>\n",
       "      <td>1.556721</td>\n",
       "      <td>-0.394808</td>\n",
       "      <td>0.416909</td>\n",
       "      <td>-0.217598</td>\n",
       "      <td>0.150066</td>\n",
       "      <td>-0.003420</td>\n",
       "      <td>...</td>\n",
       "      <td>-0.283535</td>\n",
       "      <td>-0.280723</td>\n",
       "      <td>-0.262422</td>\n",
       "      <td>-0.117471</td>\n",
       "      <td>-0.095695</td>\n",
       "      <td>-0.421876</td>\n",
       "      <td>0.821726</td>\n",
       "      <td>-0.582584</td>\n",
       "      <td>-0.307557</td>\n",
       "      <td>0.447928</td>\n",
       "    </tr>\n",
       "  </tbody>\n",
       "</table>\n",
       "<p>5 rows × 27 columns</p>\n",
       "</div>"
      ],
      "text/plain": [
       "   Education    Income   Kidhome  Teenhome   Recency  MntWines  MntFruits  \\\n",
       "0  -0.891943  0.314569 -0.823719 -0.931161  0.311683  0.974178   1.548116   \n",
       "1  -0.891943 -0.254830  1.038308  0.906152 -0.380005 -0.874842  -0.638885   \n",
       "2  -0.891943  0.965125 -0.823719 -0.931161 -0.795017  0.354875   0.567737   \n",
       "3  -0.891943 -1.205824  1.038308 -0.931161 -0.795017 -0.874842  -0.563471   \n",
       "4   0.571826  0.322052  1.038308 -0.931161  1.556721 -0.394808   0.416909   \n",
       "\n",
       "   MntMeatProducts  MntFishProducts  MntSweetProducts  ...  AcceptedCmp4  \\\n",
       "0         1.747883         2.448550          1.479812  ...     -0.283535   \n",
       "1        -0.731930        -0.652580         -0.635617  ...     -0.283535   \n",
       "2        -0.176268         1.335792         -0.149312  ...     -0.283535   \n",
       "3        -0.667638        -0.506644         -0.586987  ...     -0.283535   \n",
       "4        -0.217598         0.150066         -0.003420  ...     -0.283535   \n",
       "\n",
       "   AcceptedCmp5  AcceptedCmp1  AcceptedCmp2  Complain  Response      Days  \\\n",
       "0     -0.280723     -0.262422     -0.117471 -0.095695  2.370363 -1.973635   \n",
       "1     -0.280723     -0.262422     -0.117471 -0.095695 -0.421876  1.664635   \n",
       "2     -0.280723     -0.262422     -0.117471 -0.095695 -0.421876  0.172342   \n",
       "3     -0.280723     -0.262422     -0.117471 -0.095695 -0.421876  1.922668   \n",
       "4     -0.280723     -0.262422     -0.117471 -0.095695 -0.421876  0.821726   \n",
       "\n",
       "    Marital     Spent  Family_Size  \n",
       "0  0.400582  1.678816    -1.760647  \n",
       "1  0.400582 -0.964140     0.447928  \n",
       "2  1.383749  0.280875    -0.656360  \n",
       "3  1.383749 -0.920922     0.447928  \n",
       "4 -0.582584 -0.307557     0.447928  \n",
       "\n",
       "[5 rows x 27 columns]"
      ]
     },
     "execution_count": 2,
     "metadata": {},
     "output_type": "execute_result"
    }
   ],
   "source": [
    "#import data\n",
    "data = pd.read_csv('cleaned data.csv')\n",
    "data.head()"
   ]
  },
  {
   "cell_type": "code",
   "execution_count": 3,
   "id": "b43758cb",
   "metadata": {},
   "outputs": [
    {
     "name": "stdout",
     "output_type": "stream",
     "text": [
      "The shape of training dataset (2204, 26)\n"
     ]
    }
   ],
   "source": [
    "#create label and training data\n",
    "y = [1 if i>0 else 0 for i in data['Complain']]\n",
    "data = data.drop(['Complain'],axis=1)\n",
    "print('The shape of training dataset',data.shape)"
   ]
  },
  {
   "cell_type": "code",
   "execution_count": 4,
   "id": "d40d2db0",
   "metadata": {},
   "outputs": [
    {
     "name": "stdout",
     "output_type": "stream",
     "text": [
      "There are 20 postive samples and 2184 negative samples\n",
      "This is a skewed dataset\n"
     ]
    }
   ],
   "source": [
    "#Samples distribution\n",
    "postive = sum(y)\n",
    "negative = len(y)-postive\n",
    "print(\"There are \"+str(postive)+\" postive samples and \"+str(negative)+\" negative samples\")\n",
    "print(\"This is a skewed dataset\")"
   ]
  },
  {
   "cell_type": "raw",
   "id": "8ca08557",
   "metadata": {},
   "source": [
    "This is a very skewed dataset with only 20 postive samples while there are so many features in the dataset and some features are high correlated,so I'm going to preprocess the data using PCA."
   ]
  },
  {
   "cell_type": "code",
   "execution_count": 5,
   "id": "6b056859",
   "metadata": {},
   "outputs": [
    {
     "data": {
      "image/png": "[encoded data removed]",
      "text/plain": [
       "<Figure size 432x288 with 1 Axes>"
      ]
     },
     "metadata": {
      "needs_background": "light"
     },
     "output_type": "display_data"
    }
   ],
   "source": [
    "#compute the best parameter\n",
    "variance=[]\n",
    "for i in range(15): \n",
    "    pca = PCA(n_components=i)\n",
    "    pca.fit_transform(data)\n",
    "    R_value = pca.explained_variance_ratio_\n",
    "    variance.append(sum(R_value))\n",
    "plt.xlabel('The number of components')\n",
    "plt.ylabel('The percentage of variance')\n",
    "plt.plot(range(15),variance)\n",
    "plt.show()"
   ]
  },
  {
   "cell_type": "code",
   "execution_count": 6,
   "id": "dd87a14c",
   "metadata": {},
   "outputs": [
    {
     "name": "stdout",
     "output_type": "stream",
     "text": [
      "The number of dimension has been reduced from 26 to 8. The reduced dataset explains for 68.9679687959174 percent information of the initial dataset\n"
     ]
    }
   ],
   "source": [
    "pca = PCA(n_components=8)\n",
    "x = pca.fit_transform(data)\n",
    "variance = sum(pca.explained_variance_ratio_)*100\n",
    "print('The number of dimension has been reduced from 26 to 8. The reduced dataset explains for '+str(variance)+' percent information of the initial dataset')"
   ]
  },
  {
   "cell_type": "markdown",
   "id": "1353997f",
   "metadata": {},
   "source": [
    "# RandomUnderSampling\n"
   ]
  },
  {
   "cell_type": "code",
   "execution_count": 7,
   "id": "14151fbb",
   "metadata": {},
   "outputs": [],
   "source": [
    "rus = RandomUnderSampler(random_state=42)\n",
    "x_undsam, y_undsam = rus.fit_resample(x, y)"
   ]
  },
  {
   "cell_type": "code",
   "execution_count": 8,
   "id": "6f8198fb",
   "metadata": {},
   "outputs": [
    {
     "data": {
      "image/png": "[encoded data removed]",
      "text/plain": [
       "<Figure size 432x288 with 1 Axes>"
      ]
     },
     "metadata": {
      "needs_background": "light"
     },
     "output_type": "display_data"
    }
   ],
   "source": [
    "plt.scatter(x_undsam[:,0:1],x_undsam[:,1:2],c=y_undsam)\n",
    "plt.show()"
   ]
  },
  {
   "cell_type": "raw",
   "id": "f58ac47d",
   "metadata": {},
   "source": [
    "The dataset is not linear separable and it requires complex model to learn it. However, the dataset only has 40 observations after random under sampling. It is not enough for a complex model to learn the pattern."
   ]
  },
  {
   "cell_type": "markdown",
   "id": "b30c86e4",
   "metadata": {},
   "source": [
    "# RandomOverSampling"
   ]
  },
  {
   "cell_type": "code",
   "execution_count": 9,
   "id": "c3401807",
   "metadata": {},
   "outputs": [],
   "source": [
    "# ros = RandomOverSampler(random_state=42)\n",
    "# x_res, y_res = ros.fit_resample(x, y)"
   ]
  },
  {
   "cell_type": "code",
   "execution_count": 20,
   "id": "7af6bf86",
   "metadata": {},
   "outputs": [],
   "source": [
    "# oversam_data = pd.DataFrame(data=x_res, columns=['col1','col2','col3','col4','col5','col6','col7','col8'])\n",
    "# oversam_data['Complaint'] = y_res\n",
    "# oversam_data.to_csv('oversampling_data')"
   ]
  },
  {
   "cell_type": "code",
   "execution_count": 10,
   "id": "02ff5f43",
   "metadata": {},
   "outputs": [
    {
     "data": {
      "image/png": "[encoded data removed]",
      "text/plain": [
       "<Figure size 432x288 with 1 Axes>"
      ]
     },
     "metadata": {
      "needs_background": "light"
     },
     "output_type": "display_data"
    },
    {
     "name": "stdout",
     "output_type": "stream",
     "text": [
      "The dataset after over sampling is not linear separable\n"
     ]
    }
   ],
   "source": [
    "plt.scatter(x_res[:,0:1],x_res[:,1:2],c=y_res)\n",
    "plt.show()\n",
    "print('The dataset after over sampling is not linear separable')"
   ]
  },
  {
   "cell_type": "code",
   "execution_count": 11,
   "id": "2f14a786",
   "metadata": {},
   "outputs": [],
   "source": [
    "#split the whole dataset into training set and test set\n",
    "x_train,x_test,y_train,y_test = train_test_split(x_res,y_res,test_size=0.2,shuffle=True)"
   ]
  },
  {
   "cell_type": "code",
   "execution_count": 12,
   "id": "c09bb730",
   "metadata": {},
   "outputs": [
    {
     "data": {
      "text/plain": [
       "[<matplotlib.lines.Line2D at 0x2cb8f016700>]"
      ]
     },
     "execution_count": 12,
     "metadata": {},
     "output_type": "execute_result"
    },
    {
     "data": {
      "image/png": "[encoded data removed]",
      "text/plain": [
       "<Figure size 432x288 with 1 Axes>"
      ]
     },
     "metadata": {
      "needs_background": "light"
     },
     "output_type": "display_data"
    }
   ],
   "source": [
    "#Support vector machine\n",
    "#Because the dataset is not linear separable, I used the 'rbf' kernel in the SVM\n",
    "#cross validation to determine the hyperparameter\n",
    "accuracy = []\n",
    "for i in range(1,10):\n",
    "    svm = SVC(C=i,kernel='rbf',gamma='auto')\n",
    "    score = cross_val_score(svm,x_train,y_train,scoring='accuracy',cv=5)\n",
    "    accuracy.append(1-score.mean())\n",
    "plt.ylabel('Error')\n",
    "plt.xlabel(\"C\")\n",
    "plt.plot(range(1,10),accuracy)\n",
    "    "
   ]
  },
  {
   "cell_type": "code",
   "execution_count": 13,
   "id": "40250cd2",
   "metadata": {},
   "outputs": [
    {
     "name": "stdout",
     "output_type": "stream",
     "text": [
      "accuracy =  0.9931350114416476\n",
      "f1_score =  0.9931350114416476\n",
      "confusion_matrix = \n",
      " [[419   6]\n",
      " [  0 449]]\n"
     ]
    }
   ],
   "source": [
    "#The error goes down as Regularization parameter increase\n",
    "svm = SVC(C=9, kernel='rbf',gamma='auto')\n",
    "svm.fit(x_train,y_train)\n",
    "\n",
    "predict = svm.predict(x_test)\n",
    "\n",
    "print('accuracy = ',svm.score(x_test,y_test))\n",
    "print('f1_score = ',f1_score(y_test,predict,average='micro'))\n",
    "print('confusion_matrix = '+'\\n', confusion_matrix(y_test,predict))\n"
   ]
  },
  {
   "cell_type": "code",
   "execution_count": 14,
   "id": "353f10fa",
   "metadata": {},
   "outputs": [
    {
     "name": "stdout",
     "output_type": "stream",
     "text": [
      "accuracy =  0.9891107078039928\n",
      "f1_score =  0.9891107078039928\n",
      "confusion_matrix = \n",
      " [[  20    0]\n",
      " [  24 2160]]\n"
     ]
    }
   ],
   "source": [
    "predict = svm.predict(x)\n",
    "\n",
    "print('accuracy = ',svm.score(x,y))\n",
    "print('f1_score = ',f1_score(y,predict,average='micro'))\n",
    "print('confusion_matrix = '+'\\n', confusion_matrix(y,predict,labels=[1,0]))"
   ]
  },
  {
   "cell_type": "code",
   "execution_count": 15,
   "id": "ce352307",
   "metadata": {},
   "outputs": [
    {
     "name": "stdout",
     "output_type": "stream",
     "text": [
      "accuracy =  0.6716247139588101\n",
      "f1_score =  0.6716247139588101\n",
      "confusion_matrix = \n",
      " [[253 172]\n",
      " [115 334]]\n"
     ]
    }
   ],
   "source": [
    "#logistic regression\n",
    "clf = LogisticRegression().fit(x_train, y_train)\n",
    "predict = clf.predict(x_test)\n",
    "print('accuracy = ',clf.score(x_test,y_test))\n",
    "print('f1_score = ',f1_score(y_test,predict,average='micro'))\n",
    "print('confusion_matrix = '+'\\n', confusion_matrix(y_test,predict))"
   ]
  },
  {
   "cell_type": "code",
   "execution_count": null,
   "id": "3a41f87f",
   "metadata": {},
   "outputs": [],
   "source": []
  }
 ],
 "metadata": {
  "kernelspec": {
   "display_name": "Python 3 (ipykernel)",
   "language": "python",
   "name": "python3"
  },
  "language_info": {
   "codemirror_mode": {
    "name": "ipython",
    "version": 3
   },
   "file_extension": ".py",
   "mimetype": "text/x-python",
   "name": "python",
   "nbconvert_exporter": "python",
   "pygments_lexer": "ipython3",
   "version": "3.9.7"
  }
 },
 "nbformat": 4,
 "nbformat_minor": 5
}
